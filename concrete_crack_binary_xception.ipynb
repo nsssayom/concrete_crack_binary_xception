{
 "cells": [
  {
   "cell_type": "code",
   "execution_count": 194,
   "metadata": {},
   "outputs": [],
   "source": [
    "# Imports\n",
    "import os\n",
    "import numpy as np\n",
    "from PIL import Image,ImageOps\n",
    "import cv2\n",
    "import matplotlib.pyplot as plt\n",
    "import tensorflow as tf\n",
    "import tensorflow.keras\n",
    "from tensorflow.keras import models, layers\n",
    "from tensorflow.keras.models import Model, model_from_json, Sequential\n",
    "from tensorflow.keras.preprocessing.image import ImageDataGenerator, array_to_img, img_to_array, load_img\n",
    "from tensorflow.keras.callbacks import TensorBoard\n",
    "from tensorflow.keras.layers import Dense, Activation, Flatten, MaxPooling2D, SeparableConv2D, UpSampling2D, GlobalAveragePooling2D\n",
    "from tensorflow.keras.regularizers import l2\n",
    "from tensorflow.keras.optimizers import SGD, RMSprop, Adam\n",
    "from tensorflow.keras.utils import to_categorical\n",
    "from keras.utils.vis_utils import plot_model\n",
    "from tensorflow.keras.layers import Input, BatchNormalization, ReLU, ELU, Dropout, Conv2D, MaxPool2D, AvgPool2D, GlobalAvgPool2D, Concatenate\n",
    "\n",
    "img_rows, img_cols = 64, 64\n",
    "train_data_dir = './dataset/train'\n",
    "validation_data_dir = './dataset/validation'"
   ]
  },
  {
   "cell_type": "code",
   "execution_count": 195,
   "metadata": {},
   "outputs": [],
   "source": [
    "IMG_SHAPE = img_cols, img_rows, 3\n",
    "classes = 2"
   ]
  },
  {
   "cell_type": "code",
   "execution_count": 196,
   "metadata": {},
   "outputs": [
    {
     "name": "stdout",
     "output_type": "stream",
     "text": [
      "Found 8000 images belonging to 2 classes.\n",
      "Found 2000 images belonging to 2 classes.\n"
     ]
    }
   ],
   "source": [
    "train_datagen = ImageDataGenerator(rescale=1. / 255,\n",
    "                                   rotation_range=20,\n",
    "                                   shear_range=0.2,\n",
    "                                   zoom_range=0.2,\n",
    "                                   horizontal_flip=True,\n",
    "                                   fill_mode='nearest')\n",
    "\n",
    "datagen = ImageDataGenerator(rescale=1./255)\n",
    "\n",
    "#automatically retrive images and their classes for training and validation\n",
    "train_generator = datagen.flow_from_directory(\n",
    "    train_data_dir,\n",
    "    target_size=(img_width, img_height),\n",
    "    batch_size=batch_size,\n",
    "    shuffle=True,\n",
    "    class_mode='categorical')\n",
    "\n",
    "validation_generator = datagen.flow_from_directory(\n",
    "    validation_data_dir,\n",
    "    target_size=(img_width, img_height),\n",
    "    batch_size=batch_size,\n",
    "    shuffle=False,\n",
    "    class_mode='categorical')\n"
   ]
  },
  {
   "cell_type": "code",
   "execution_count": 197,
   "metadata": {},
   "outputs": [
    {
     "name": "stdout",
     "output_type": "stream",
     "text": [
      "num_train_samples: 8000\n",
      "num_validation_samples: 2000\n"
     ]
    }
   ],
   "source": [
    "num_train_samples = train_generator.samples\n",
    "num_validation_samples = validation_generator.samples\n",
    "\n",
    "print('num_train_samples: ' + str(num_train_samples))\n",
    "print('num_validation_samples: ' + str(num_validation_samples))"
   ]
  },
  {
   "cell_type": "code",
   "execution_count": 198,
   "metadata": {},
   "outputs": [],
   "source": [
    "def entry_flow(inputs):\n",
    "\n",
    "    x = Conv2D(32, 3, strides=2, padding='same')(inputs)\n",
    "    x = BatchNormalization()(x)\n",
    "    x = Activation('relu')(x)\n",
    "\n",
    "    x = Conv2D(64, 3, padding='same')(x)\n",
    "    x = BatchNormalization()(x)\n",
    "    x = Activation('relu')(x)\n",
    "\n",
    "    previous_block_activation = x\n",
    "\n",
    "    for size in [128, 256, 728]:\n",
    "\n",
    "        x = Activation('relu')(x)\n",
    "        x = SeparableConv2D(size, 3, padding='same')(x)\n",
    "        x = BatchNormalization()(x)\n",
    "\n",
    "        x = Activation('relu')(x)\n",
    "        x = SeparableConv2D(size, 3, padding='same')(x)\n",
    "        x = BatchNormalization()(x)\n",
    "\n",
    "        x = MaxPooling2D(3, strides=2, padding='same')(x)\n",
    "\n",
    "        residual = Conv2D(size, 1, strides=2, padding='same')(\n",
    "            previous_block_activation)\n",
    "\n",
    "        x = tensorflow.keras.layers.Add()([x, residual])\n",
    "        previous_block_activation = x\n",
    "\n",
    "    return x\n"
   ]
  },
  {
   "cell_type": "code",
   "execution_count": 199,
   "metadata": {},
   "outputs": [],
   "source": [
    "def middle_flow(x, num_blocks=8) :\n",
    "\n",
    "    previous_block_activation = x\n",
    "\n",
    "    for _ in range(num_blocks) :\n",
    "\n",
    "        x = Activation('relu')(x)\n",
    "        x = SeparableConv2D(728, 3, padding='same')(x)\n",
    "        # x = BatchNormalization()(x)\n",
    "\n",
    "        x = Activation('relu')(x)\n",
    "        x = SeparableConv2D(728, 3, padding='same')(x)\n",
    "        # x = BatchNormalization()(x)\n",
    "\n",
    "        x = Activation('relu')(x)\n",
    "        x = SeparableConv2D(728, 3, padding='same')(x)\n",
    "        # x = BatchNormalization()(x)\n",
    "\n",
    "        x = tensorflow.keras.layers.Add()([x, previous_block_activation])\n",
    "        previous_block_activation = x\n",
    "\n",
    "    return x"
   ]
  },
  {
   "cell_type": "code",
   "execution_count": 200,
   "metadata": {},
   "outputs": [],
   "source": [
    "def exit_flow(x) :\n",
    "\n",
    "    previous_block_activation = x\n",
    "\n",
    "    x = Activation('relu')(x)\n",
    "    x = SeparableConv2D(728, 3, padding='same')(x)\n",
    "    #x = BatchNormalization()(x)\n",
    "\n",
    "    x = Activation('relu')(x)\n",
    "    x = SeparableConv2D(1024, 3, padding='same')(x) \n",
    "    #x = BatchNormalization()(x)\n",
    "\n",
    "    x = MaxPooling2D(3, strides=2, padding='same')(x)\n",
    "\n",
    "    residual = Conv2D(1024, 1, strides=2, padding='same')(previous_block_activation)\n",
    "    x = tensorflow.keras.layers.Add()([x, residual])\n",
    "\n",
    "    x = Activation('relu')(x)\n",
    "    x = SeparableConv2D(728, 3, padding='same')(x)\n",
    "    #x = BatchNormalization()(x)\n",
    "\n",
    "    x = Activation('relu')(x)\n",
    "    x = SeparableConv2D(1024, 3, padding='same')(x)\n",
    "    #x = BatchNormalization()(x)\n",
    "\n",
    "    x = GlobalAveragePooling2D()(x)\n",
    "    x = Dense(classes, activation='softmax')(x)\n",
    "\n",
    "    return x"
   ]
  },
  {
   "cell_type": "code",
   "execution_count": 201,
   "metadata": {},
   "outputs": [],
   "source": [
    "inputs = Input(shape=(img_rows, img_cols, 3))\n",
    "outputs = exit_flow(middle_flow(entry_flow(inputs)))\n",
    "xception = Model(inputs, outputs)"
   ]
  },
  {
   "cell_type": "code",
   "execution_count": 202,
   "metadata": {
    "scrolled": true
   },
   "outputs": [
    {
     "name": "stdout",
     "output_type": "stream",
     "text": [
      "Model: \"model_12\"\n",
      "__________________________________________________________________________________________________\n",
      "Layer (type)                    Output Shape         Param #     Connected to                     \n",
      "==================================================================================================\n",
      "input_15 (InputLayer)           [(None, 64, 64, 3)]  0                                            \n",
      "__________________________________________________________________________________________________\n",
      "conv2d_82 (Conv2D)              (None, 32, 32, 32)   896         input_15[0][0]                   \n",
      "__________________________________________________________________________________________________\n",
      "batch_normalization_364 (BatchN (None, 32, 32, 32)   128         conv2d_82[0][0]                  \n",
      "__________________________________________________________________________________________________\n",
      "activation_454 (Activation)     (None, 32, 32, 32)   0           batch_normalization_364[0][0]    \n",
      "__________________________________________________________________________________________________\n",
      "conv2d_83 (Conv2D)              (None, 32, 32, 64)   18496       activation_454[0][0]             \n",
      "__________________________________________________________________________________________________\n",
      "batch_normalization_365 (BatchN (None, 32, 32, 64)   256         conv2d_83[0][0]                  \n",
      "__________________________________________________________________________________________________\n",
      "activation_455 (Activation)     (None, 32, 32, 64)   0           batch_normalization_365[0][0]    \n",
      "__________________________________________________________________________________________________\n",
      "activation_456 (Activation)     (None, 32, 32, 64)   0           activation_455[0][0]             \n",
      "__________________________________________________________________________________________________\n",
      "separable_conv2d_426 (Separable (None, 32, 32, 128)  8896        activation_456[0][0]             \n",
      "__________________________________________________________________________________________________\n",
      "batch_normalization_366 (BatchN (None, 32, 32, 128)  512         separable_conv2d_426[0][0]       \n",
      "__________________________________________________________________________________________________\n",
      "activation_457 (Activation)     (None, 32, 32, 128)  0           batch_normalization_366[0][0]    \n",
      "__________________________________________________________________________________________________\n",
      "separable_conv2d_427 (Separable (None, 32, 32, 128)  17664       activation_457[0][0]             \n",
      "__________________________________________________________________________________________________\n",
      "batch_normalization_367 (BatchN (None, 32, 32, 128)  512         separable_conv2d_427[0][0]       \n",
      "__________________________________________________________________________________________________\n",
      "max_pooling2d_54 (MaxPooling2D) (None, 16, 16, 128)  0           batch_normalization_367[0][0]    \n",
      "__________________________________________________________________________________________________\n",
      "conv2d_84 (Conv2D)              (None, 16, 16, 128)  8320        activation_455[0][0]             \n",
      "__________________________________________________________________________________________________\n",
      "add_152 (Add)                   (None, 16, 16, 128)  0           max_pooling2d_54[0][0]           \n",
      "                                                                 conv2d_84[0][0]                  \n",
      "__________________________________________________________________________________________________\n",
      "activation_458 (Activation)     (None, 16, 16, 128)  0           add_152[0][0]                    \n",
      "__________________________________________________________________________________________________\n",
      "separable_conv2d_428 (Separable (None, 16, 16, 256)  34176       activation_458[0][0]             \n",
      "__________________________________________________________________________________________________\n",
      "batch_normalization_368 (BatchN (None, 16, 16, 256)  1024        separable_conv2d_428[0][0]       \n",
      "__________________________________________________________________________________________________\n",
      "activation_459 (Activation)     (None, 16, 16, 256)  0           batch_normalization_368[0][0]    \n",
      "__________________________________________________________________________________________________\n",
      "separable_conv2d_429 (Separable (None, 16, 16, 256)  68096       activation_459[0][0]             \n",
      "__________________________________________________________________________________________________\n",
      "batch_normalization_369 (BatchN (None, 16, 16, 256)  1024        separable_conv2d_429[0][0]       \n",
      "__________________________________________________________________________________________________\n",
      "max_pooling2d_55 (MaxPooling2D) (None, 8, 8, 256)    0           batch_normalization_369[0][0]    \n",
      "__________________________________________________________________________________________________\n",
      "conv2d_85 (Conv2D)              (None, 8, 8, 256)    33024       add_152[0][0]                    \n",
      "__________________________________________________________________________________________________\n",
      "add_153 (Add)                   (None, 8, 8, 256)    0           max_pooling2d_55[0][0]           \n",
      "                                                                 conv2d_85[0][0]                  \n",
      "__________________________________________________________________________________________________\n",
      "activation_460 (Activation)     (None, 8, 8, 256)    0           add_153[0][0]                    \n",
      "__________________________________________________________________________________________________\n",
      "separable_conv2d_430 (Separable (None, 8, 8, 728)    189400      activation_460[0][0]             \n",
      "__________________________________________________________________________________________________\n",
      "batch_normalization_370 (BatchN (None, 8, 8, 728)    2912        separable_conv2d_430[0][0]       \n",
      "__________________________________________________________________________________________________\n",
      "activation_461 (Activation)     (None, 8, 8, 728)    0           batch_normalization_370[0][0]    \n",
      "__________________________________________________________________________________________________\n",
      "separable_conv2d_431 (Separable (None, 8, 8, 728)    537264      activation_461[0][0]             \n",
      "__________________________________________________________________________________________________\n",
      "batch_normalization_371 (BatchN (None, 8, 8, 728)    2912        separable_conv2d_431[0][0]       \n",
      "__________________________________________________________________________________________________\n",
      "max_pooling2d_56 (MaxPooling2D) (None, 4, 4, 728)    0           batch_normalization_371[0][0]    \n",
      "__________________________________________________________________________________________________\n",
      "conv2d_86 (Conv2D)              (None, 4, 4, 728)    187096      add_153[0][0]                    \n",
      "__________________________________________________________________________________________________\n",
      "add_154 (Add)                   (None, 4, 4, 728)    0           max_pooling2d_56[0][0]           \n",
      "                                                                 conv2d_86[0][0]                  \n",
      "__________________________________________________________________________________________________\n",
      "activation_462 (Activation)     (None, 4, 4, 728)    0           add_154[0][0]                    \n",
      "__________________________________________________________________________________________________\n",
      "separable_conv2d_432 (Separable (None, 4, 4, 728)    537264      activation_462[0][0]             \n",
      "__________________________________________________________________________________________________\n",
      "activation_463 (Activation)     (None, 4, 4, 728)    0           separable_conv2d_432[0][0]       \n",
      "__________________________________________________________________________________________________\n",
      "separable_conv2d_433 (Separable (None, 4, 4, 728)    537264      activation_463[0][0]             \n",
      "__________________________________________________________________________________________________\n",
      "activation_464 (Activation)     (None, 4, 4, 728)    0           separable_conv2d_433[0][0]       \n",
      "__________________________________________________________________________________________________\n",
      "separable_conv2d_434 (Separable (None, 4, 4, 728)    537264      activation_464[0][0]             \n",
      "__________________________________________________________________________________________________\n",
      "add_155 (Add)                   (None, 4, 4, 728)    0           separable_conv2d_434[0][0]       \n",
      "                                                                 add_154[0][0]                    \n",
      "__________________________________________________________________________________________________\n",
      "activation_465 (Activation)     (None, 4, 4, 728)    0           add_155[0][0]                    \n",
      "__________________________________________________________________________________________________\n",
      "separable_conv2d_435 (Separable (None, 4, 4, 728)    537264      activation_465[0][0]             \n",
      "__________________________________________________________________________________________________\n",
      "activation_466 (Activation)     (None, 4, 4, 728)    0           separable_conv2d_435[0][0]       \n",
      "__________________________________________________________________________________________________\n",
      "separable_conv2d_436 (Separable (None, 4, 4, 728)    537264      activation_466[0][0]             \n",
      "__________________________________________________________________________________________________\n",
      "activation_467 (Activation)     (None, 4, 4, 728)    0           separable_conv2d_436[0][0]       \n",
      "__________________________________________________________________________________________________\n",
      "separable_conv2d_437 (Separable (None, 4, 4, 728)    537264      activation_467[0][0]             \n",
      "__________________________________________________________________________________________________\n",
      "add_156 (Add)                   (None, 4, 4, 728)    0           separable_conv2d_437[0][0]       \n",
      "                                                                 add_155[0][0]                    \n",
      "__________________________________________________________________________________________________\n",
      "activation_468 (Activation)     (None, 4, 4, 728)    0           add_156[0][0]                    \n",
      "__________________________________________________________________________________________________\n",
      "separable_conv2d_438 (Separable (None, 4, 4, 728)    537264      activation_468[0][0]             \n",
      "__________________________________________________________________________________________________\n",
      "activation_469 (Activation)     (None, 4, 4, 728)    0           separable_conv2d_438[0][0]       \n",
      "__________________________________________________________________________________________________\n",
      "separable_conv2d_439 (Separable (None, 4, 4, 728)    537264      activation_469[0][0]             \n",
      "__________________________________________________________________________________________________\n",
      "activation_470 (Activation)     (None, 4, 4, 728)    0           separable_conv2d_439[0][0]       \n",
      "__________________________________________________________________________________________________\n",
      "separable_conv2d_440 (Separable (None, 4, 4, 728)    537264      activation_470[0][0]             \n",
      "__________________________________________________________________________________________________\n",
      "add_157 (Add)                   (None, 4, 4, 728)    0           separable_conv2d_440[0][0]       \n",
      "                                                                 add_156[0][0]                    \n",
      "__________________________________________________________________________________________________\n",
      "activation_471 (Activation)     (None, 4, 4, 728)    0           add_157[0][0]                    \n",
      "__________________________________________________________________________________________________\n",
      "separable_conv2d_441 (Separable (None, 4, 4, 728)    537264      activation_471[0][0]             \n",
      "__________________________________________________________________________________________________\n",
      "activation_472 (Activation)     (None, 4, 4, 728)    0           separable_conv2d_441[0][0]       \n",
      "__________________________________________________________________________________________________\n",
      "separable_conv2d_442 (Separable (None, 4, 4, 728)    537264      activation_472[0][0]             \n",
      "__________________________________________________________________________________________________\n",
      "activation_473 (Activation)     (None, 4, 4, 728)    0           separable_conv2d_442[0][0]       \n",
      "__________________________________________________________________________________________________\n",
      "separable_conv2d_443 (Separable (None, 4, 4, 728)    537264      activation_473[0][0]             \n",
      "__________________________________________________________________________________________________\n",
      "add_158 (Add)                   (None, 4, 4, 728)    0           separable_conv2d_443[0][0]       \n",
      "                                                                 add_157[0][0]                    \n",
      "__________________________________________________________________________________________________\n",
      "activation_474 (Activation)     (None, 4, 4, 728)    0           add_158[0][0]                    \n",
      "__________________________________________________________________________________________________\n",
      "separable_conv2d_444 (Separable (None, 4, 4, 728)    537264      activation_474[0][0]             \n",
      "__________________________________________________________________________________________________\n",
      "activation_475 (Activation)     (None, 4, 4, 728)    0           separable_conv2d_444[0][0]       \n",
      "__________________________________________________________________________________________________\n",
      "separable_conv2d_445 (Separable (None, 4, 4, 728)    537264      activation_475[0][0]             \n",
      "__________________________________________________________________________________________________\n",
      "activation_476 (Activation)     (None, 4, 4, 728)    0           separable_conv2d_445[0][0]       \n",
      "__________________________________________________________________________________________________\n",
      "separable_conv2d_446 (Separable (None, 4, 4, 728)    537264      activation_476[0][0]             \n",
      "__________________________________________________________________________________________________\n",
      "add_159 (Add)                   (None, 4, 4, 728)    0           separable_conv2d_446[0][0]       \n",
      "                                                                 add_158[0][0]                    \n",
      "__________________________________________________________________________________________________\n",
      "activation_477 (Activation)     (None, 4, 4, 728)    0           add_159[0][0]                    \n",
      "__________________________________________________________________________________________________\n",
      "separable_conv2d_447 (Separable (None, 4, 4, 728)    537264      activation_477[0][0]             \n",
      "__________________________________________________________________________________________________\n",
      "activation_478 (Activation)     (None, 4, 4, 728)    0           separable_conv2d_447[0][0]       \n",
      "__________________________________________________________________________________________________\n",
      "separable_conv2d_448 (Separable (None, 4, 4, 728)    537264      activation_478[0][0]             \n",
      "__________________________________________________________________________________________________\n",
      "activation_479 (Activation)     (None, 4, 4, 728)    0           separable_conv2d_448[0][0]       \n",
      "__________________________________________________________________________________________________\n",
      "separable_conv2d_449 (Separable (None, 4, 4, 728)    537264      activation_479[0][0]             \n",
      "__________________________________________________________________________________________________\n",
      "add_160 (Add)                   (None, 4, 4, 728)    0           separable_conv2d_449[0][0]       \n",
      "                                                                 add_159[0][0]                    \n",
      "__________________________________________________________________________________________________\n",
      "activation_480 (Activation)     (None, 4, 4, 728)    0           add_160[0][0]                    \n",
      "__________________________________________________________________________________________________\n",
      "separable_conv2d_450 (Separable (None, 4, 4, 728)    537264      activation_480[0][0]             \n",
      "__________________________________________________________________________________________________\n",
      "activation_481 (Activation)     (None, 4, 4, 728)    0           separable_conv2d_450[0][0]       \n",
      "__________________________________________________________________________________________________\n",
      "separable_conv2d_451 (Separable (None, 4, 4, 728)    537264      activation_481[0][0]             \n",
      "__________________________________________________________________________________________________\n",
      "activation_482 (Activation)     (None, 4, 4, 728)    0           separable_conv2d_451[0][0]       \n",
      "__________________________________________________________________________________________________\n",
      "separable_conv2d_452 (Separable (None, 4, 4, 728)    537264      activation_482[0][0]             \n",
      "__________________________________________________________________________________________________\n",
      "add_161 (Add)                   (None, 4, 4, 728)    0           separable_conv2d_452[0][0]       \n",
      "                                                                 add_160[0][0]                    \n",
      "__________________________________________________________________________________________________\n",
      "activation_483 (Activation)     (None, 4, 4, 728)    0           add_161[0][0]                    \n",
      "__________________________________________________________________________________________________\n",
      "separable_conv2d_453 (Separable (None, 4, 4, 728)    537264      activation_483[0][0]             \n",
      "__________________________________________________________________________________________________\n",
      "activation_484 (Activation)     (None, 4, 4, 728)    0           separable_conv2d_453[0][0]       \n",
      "__________________________________________________________________________________________________\n",
      "separable_conv2d_454 (Separable (None, 4, 4, 728)    537264      activation_484[0][0]             \n",
      "__________________________________________________________________________________________________\n",
      "activation_485 (Activation)     (None, 4, 4, 728)    0           separable_conv2d_454[0][0]       \n",
      "__________________________________________________________________________________________________\n",
      "separable_conv2d_455 (Separable (None, 4, 4, 728)    537264      activation_485[0][0]             \n",
      "__________________________________________________________________________________________________\n",
      "add_162 (Add)                   (None, 4, 4, 728)    0           separable_conv2d_455[0][0]       \n",
      "                                                                 add_161[0][0]                    \n",
      "__________________________________________________________________________________________________\n",
      "activation_486 (Activation)     (None, 4, 4, 728)    0           add_162[0][0]                    \n",
      "__________________________________________________________________________________________________\n",
      "separable_conv2d_456 (Separable (None, 4, 4, 728)    537264      activation_486[0][0]             \n",
      "__________________________________________________________________________________________________\n",
      "activation_487 (Activation)     (None, 4, 4, 728)    0           separable_conv2d_456[0][0]       \n",
      "__________________________________________________________________________________________________\n",
      "separable_conv2d_457 (Separable (None, 4, 4, 1024)   753048      activation_487[0][0]             \n",
      "__________________________________________________________________________________________________\n",
      "max_pooling2d_57 (MaxPooling2D) (None, 2, 2, 1024)   0           separable_conv2d_457[0][0]       \n",
      "__________________________________________________________________________________________________\n",
      "conv2d_87 (Conv2D)              (None, 2, 2, 1024)   746496      add_162[0][0]                    \n",
      "__________________________________________________________________________________________________\n",
      "add_163 (Add)                   (None, 2, 2, 1024)   0           max_pooling2d_57[0][0]           \n",
      "                                                                 conv2d_87[0][0]                  \n",
      "__________________________________________________________________________________________________\n",
      "activation_488 (Activation)     (None, 2, 2, 1024)   0           add_163[0][0]                    \n",
      "__________________________________________________________________________________________________\n",
      "separable_conv2d_458 (Separable (None, 2, 2, 728)    755416      activation_488[0][0]             \n",
      "__________________________________________________________________________________________________\n",
      "activation_489 (Activation)     (None, 2, 2, 728)    0           separable_conv2d_458[0][0]       \n",
      "__________________________________________________________________________________________________\n",
      "separable_conv2d_459 (Separable (None, 2, 2, 1024)   753048      activation_489[0][0]             \n",
      "__________________________________________________________________________________________________\n",
      "global_average_pooling2d_12 (Gl (None, 1024)         0           separable_conv2d_459[0][0]       \n",
      "__________________________________________________________________________________________________\n",
      "dense_12 (Dense)                (None, 2)            2050        global_average_pooling2d_12[0][0]\n",
      "==================================================================================================\n",
      "Total params: 17,554,266\n",
      "Trainable params: 17,549,626\n",
      "Non-trainable params: 4,640\n",
      "__________________________________________________________________________________________________\n"
     ]
    }
   ],
   "source": [
    "xception.summary()"
   ]
  },
  {
   "cell_type": "code",
   "execution_count": 203,
   "metadata": {},
   "outputs": [],
   "source": [
    "opt = tensorflow.keras.optimizers.Adam()\n",
    "xception.compile(loss='categorical_crossentropy',\n",
    "              optimizer=opt,\n",
    "              metrics=['accuracy'])\n"
   ]
  },
  {
   "cell_type": "code",
   "execution_count": 204,
   "metadata": {},
   "outputs": [
    {
     "name": "stdout",
     "output_type": "stream",
     "text": [
      "Epoch 1/30\n"
     ]
    },
    {
     "name": "stderr",
     "output_type": "stream",
     "text": [
      "/home/nsssayom/.local/lib/python3.9/site-packages/keras/engine/training.py:1972: UserWarning: `Model.fit_generator` is deprecated and will be removed in a future version. Please use `Model.fit`, which supports generators.\n",
      "  warnings.warn('`Model.fit_generator` is deprecated and '\n"
     ]
    },
    {
     "name": "stdout",
     "output_type": "stream",
     "text": [
      "125/125 [==============================] - 33s 234ms/step - loss: 0.0749 - accuracy: 0.9660 - val_loss: 2.4934 - val_accuracy: 0.4960\n",
      "Epoch 2/30\n",
      "125/125 [==============================] - 29s 229ms/step - loss: 0.0117 - accuracy: 0.9959 - val_loss: 3.6344 - val_accuracy: 0.4960\n",
      "Epoch 3/30\n",
      "125/125 [==============================] - 28s 225ms/step - loss: 0.0082 - accuracy: 0.9980 - val_loss: 4.5399 - val_accuracy: 0.4960\n",
      "Epoch 4/30\n",
      "125/125 [==============================] - 28s 225ms/step - loss: 0.0094 - accuracy: 0.9967 - val_loss: 0.5129 - val_accuracy: 0.8226\n",
      "Epoch 5/30\n",
      "125/125 [==============================] - 28s 226ms/step - loss: 0.0021 - accuracy: 0.9992 - val_loss: 0.0871 - val_accuracy: 0.9808\n",
      "Epoch 6/30\n",
      "125/125 [==============================] - 29s 228ms/step - loss: 0.0023 - accuracy: 0.9992 - val_loss: 0.0522 - val_accuracy: 0.9899\n",
      "Epoch 7/30\n",
      "125/125 [==============================] - 28s 221ms/step - loss: 0.0137 - accuracy: 0.9964 - val_loss: 0.0203 - val_accuracy: 0.9924\n",
      "Epoch 8/30\n",
      "125/125 [==============================] - 28s 222ms/step - loss: 0.0048 - accuracy: 0.9984 - val_loss: 0.0219 - val_accuracy: 0.9929\n",
      "Epoch 9/30\n",
      "125/125 [==============================] - 28s 224ms/step - loss: 0.0026 - accuracy: 0.9994 - val_loss: 0.0141 - val_accuracy: 0.9950\n",
      "Epoch 10/30\n",
      "125/125 [==============================] - 28s 222ms/step - loss: 0.0027 - accuracy: 0.9995 - val_loss: 0.0396 - val_accuracy: 0.9884\n",
      "Epoch 11/30\n",
      "125/125 [==============================] - 28s 223ms/step - loss: 0.0112 - accuracy: 0.9974 - val_loss: 0.0476 - val_accuracy: 0.9864\n",
      "Epoch 12/30\n",
      "125/125 [==============================] - 28s 220ms/step - loss: 0.0031 - accuracy: 0.9992 - val_loss: 0.0203 - val_accuracy: 0.9970\n",
      "Epoch 13/30\n",
      "125/125 [==============================] - 28s 220ms/step - loss: 0.0052 - accuracy: 0.9985 - val_loss: 0.0772 - val_accuracy: 0.9819\n",
      "Epoch 14/30\n",
      "125/125 [==============================] - 27s 218ms/step - loss: 0.0024 - accuracy: 0.9992 - val_loss: 0.0719 - val_accuracy: 0.9864\n",
      "Epoch 15/30\n",
      "125/125 [==============================] - 28s 224ms/step - loss: 0.0046 - accuracy: 0.9990 - val_loss: 0.1135 - val_accuracy: 0.9748\n",
      "Epoch 16/30\n",
      "125/125 [==============================] - 28s 225ms/step - loss: 0.0021 - accuracy: 0.9996 - val_loss: 0.0383 - val_accuracy: 0.9924\n",
      "Epoch 17/30\n",
      "125/125 [==============================] - 28s 224ms/step - loss: 6.0922e-05 - accuracy: 1.0000 - val_loss: 0.0152 - val_accuracy: 0.9975\n",
      "Epoch 18/30\n",
      "125/125 [==============================] - 28s 222ms/step - loss: 1.3870e-05 - accuracy: 1.0000 - val_loss: 0.0151 - val_accuracy: 0.9965\n",
      "Epoch 19/30\n",
      "125/125 [==============================] - 28s 221ms/step - loss: 6.9523e-05 - accuracy: 1.0000 - val_loss: 0.3499 - val_accuracy: 0.9299\n",
      "Epoch 20/30\n",
      "125/125 [==============================] - 28s 222ms/step - loss: 0.0039 - accuracy: 0.9987 - val_loss: 0.0178 - val_accuracy: 0.9950\n",
      "Epoch 21/30\n",
      "125/125 [==============================] - 27s 219ms/step - loss: 0.0043 - accuracy: 0.9984 - val_loss: 1.2770 - val_accuracy: 0.5801\n",
      "Epoch 22/30\n",
      "125/125 [==============================] - 28s 220ms/step - loss: 0.0032 - accuracy: 0.9991 - val_loss: 0.0326 - val_accuracy: 0.9924\n",
      "Epoch 23/30\n",
      "125/125 [==============================] - 28s 222ms/step - loss: 0.0058 - accuracy: 0.9979 - val_loss: 0.0328 - val_accuracy: 0.9950\n",
      "Epoch 24/30\n",
      "125/125 [==============================] - 28s 222ms/step - loss: 5.7317e-05 - accuracy: 1.0000 - val_loss: 0.0177 - val_accuracy: 0.9945\n",
      "Epoch 25/30\n",
      "125/125 [==============================] - 28s 221ms/step - loss: 0.0025 - accuracy: 0.9994 - val_loss: 0.0081 - val_accuracy: 0.9985\n",
      "Epoch 26/30\n",
      "125/125 [==============================] - 28s 220ms/step - loss: 2.1739e-04 - accuracy: 0.9999 - val_loss: 0.0044 - val_accuracy: 0.9990\n",
      "Epoch 27/30\n",
      "125/125 [==============================] - 28s 223ms/step - loss: 0.0019 - accuracy: 0.9995 - val_loss: 0.0398 - val_accuracy: 0.9945\n",
      "Epoch 28/30\n",
      "125/125 [==============================] - 27s 219ms/step - loss: 0.0093 - accuracy: 0.9979 - val_loss: 0.0357 - val_accuracy: 0.9904\n",
      "Epoch 29/30\n",
      "125/125 [==============================] - 27s 219ms/step - loss: 0.0037 - accuracy: 0.9986 - val_loss: 0.0120 - val_accuracy: 0.9980\n",
      "Epoch 30/30\n",
      "125/125 [==============================] - 27s 220ms/step - loss: 9.8336e-05 - accuracy: 1.0000 - val_loss: 0.0160 - val_accuracy: 0.9980\n"
     ]
    }
   ],
   "source": [
    "history_1= xception.fit_generator(train_generator,\n",
    "                    steps_per_epoch=num_train_samples // batch_size,\n",
    "                    epochs=30,\n",
    "                    validation_data=validation_generator,\n",
    "                    validation_steps=num_validation_samples // batch_size)"
   ]
  },
  {
   "cell_type": "code",
   "execution_count": 205,
   "metadata": {},
   "outputs": [],
   "source": [
    "import seaborn as sns"
   ]
  },
  {
   "cell_type": "code",
   "execution_count": 206,
   "metadata": {},
   "outputs": [
    {
     "data": {
      "image/png": "[encoded data removed]",
      "text/plain": [
       "<Figure size 800x400 with 1 Axes>"
      ]
     },
     "metadata": {},
     "output_type": "display_data"
    }
   ],
   "source": [
    "#  \"Accuracy\"\n",
    "plt.figure(figsize=[8, 4])\n",
    "sns.set_theme()\n",
    "plt.plot(history_1.history['accuracy'], color=\"blue\")\n",
    "plt.plot(history_1.history['val_accuracy'] , color=\"red\")\n",
    "plt.title('Model Accuracy')\n",
    "plt.ylabel('Accuracy')\n",
    "plt.xlabel('Epoch')\n",
    "plt.legend(['Train', 'Validation'], loc='lower right')\n",
    "#plt.show()\n",
    "plt.gca().set_position([0.1, 0.12, 0.8, 0.8])\n",
    "plt.savefig('./graph/TwoClass_accuracy_raw_1.svg')\n"
   ]
  },
  {
   "cell_type": "code",
   "execution_count": 207,
   "metadata": {},
   "outputs": [
    {
     "data": {
      "image/png": "[encoded data removed]",
      "text/plain": [
       "<Figure size 800x400 with 1 Axes>"
      ]
     },
     "metadata": {},
     "output_type": "display_data"
    }
   ],
   "source": [
    "# \"Loss\"\n",
    "plt.figure(figsize=[8, 4])\n",
    "sns.set_theme()\n",
    "plt.plot(history_1.history['loss'], color=\"blue\")\n",
    "plt.plot(history_1.history['val_loss'], color=\"red\")\n",
    "plt.title('Model Loss')\n",
    "plt.ylabel('Loss')\n",
    "plt.xlabel('Epoch')\n",
    "plt.legend(['Train', 'Validation'], loc='upper right')\n",
    "#plt.show()\n",
    "plt.gca().set_position([0.1, 0.12, 0.8, 0.8])\n",
    "plt.savefig('./graph/TwoClass_loss_raw_1.svg')\n",
    "#plt.savefig('G:/Nazia/BanglaLekha/Comp-graph/Com_loss18.png')"
   ]
  },
  {
   "cell_type": "code",
   "execution_count": 208,
   "metadata": {},
   "outputs": [],
   "source": [
    "%matplotlib inline\n",
    "from sklearn.metrics import confusion_matrix\n",
    "import itertools\n",
    "import matplotlib.pyplot as plt\n",
    "from sklearn.metrics import classification_report, confusion_matrix"
   ]
  },
  {
   "cell_type": "code",
   "execution_count": 209,
   "metadata": {},
   "outputs": [],
   "source": [
    "batch_size=64"
   ]
  },
  {
   "cell_type": "code",
   "execution_count": 220,
   "metadata": {},
   "outputs": [
    {
     "name": "stderr",
     "output_type": "stream",
     "text": [
      "/home/nsssayom/.local/lib/python3.9/site-packages/keras/engine/training.py:2035: UserWarning: `Model.predict_generator` is deprecated and will be removed in a future version. Please use `Model.predict`, which supports generators.\n",
      "  warnings.warn('`Model.predict_generator` is deprecated and '\n"
     ]
    },
    {
     "name": "stdout",
     "output_type": "stream",
     "text": [
      "(2000, 2)\n",
      "              precision    recall  f1-score   support\n",
      "\n",
      "     Cracked      1.000     0.996     0.998      1000\n",
      " Non-Cracked      0.996     1.000     0.998      1000\n",
      "\n",
      "    accuracy                          0.998      2000\n",
      "   macro avg      0.998     0.998     0.998      2000\n",
      "weighted avg      0.998     0.998     0.998      2000\n",
      "\n"
     ]
    }
   ],
   "source": [
    "Y_pred = xception.predict_generator(validation_generator, num_validation_samples// batch_size+1)\n",
    "print(Y_pred.shape)\n",
    "y_pred = np.argmax(Y_pred, axis=1)\n",
    "y_true= validation_generator.classes\n",
    "\n",
    "target_names = ['Cracked', 'Non-Cracked']\n",
    "print(classification_report(y_true, y_pred, target_names=target_names, digits=3))"
   ]
  },
  {
   "cell_type": "code",
   "execution_count": 211,
   "metadata": {},
   "outputs": [],
   "source": [
    "cm = confusion_matrix(y_true, y_pred)"
   ]
  },
  {
   "cell_type": "code",
   "execution_count": 212,
   "metadata": {},
   "outputs": [],
   "source": [
    "classes=2"
   ]
  },
  {
   "cell_type": "code",
   "execution_count": 213,
   "metadata": {},
   "outputs": [],
   "source": [
    "def plot_confusion_matrix(cm, classes,\n",
    "                        normalize=False,\n",
    "                        title='Confusion matrix',\n",
    "                        cmap=plt.cm.Blues\n",
    "                         ):\n",
    "    \"\"\"\n",
    "    This function prints and plots the confusion matrix.\n",
    "    Normalization can be applied by setting `normalize=True`.\n",
    "    \"\"\"\n",
    "    plt.figure(figsize=(12,12))\n",
    "    plt.imshow(cm, interpolation='nearest', cmap=cmap)\n",
    "    plt.title(title)\n",
    "    plt.colorbar()\n",
    "    tick_marks = np.arange(len(classes))\n",
    "    plt.xticks(tick_marks, classes, rotation=45)\n",
    "    plt.yticks(tick_marks, classes)\n",
    "\n",
    "    if normalize:\n",
    "        cm = cm.astype('float') / cm.sum(axis=1)[:, np.newaxis]\n",
    "        print(\"Normalized confusion matrix\")\n",
    "    else:\n",
    "        print('Confusion matrix, without normalization')\n",
    "\n",
    "    print(cm)\n",
    "\n",
    "    thresh = cm.max() / 2.\n",
    "    for i, j in itertools.product(range(cm.shape[0]), range(cm.shape[1]), ):\n",
    "        plt.text(j, i, cm[i, j, ],\n",
    "            horizontalalignment=\"center\",\n",
    "            color=\"white\" if cm[i, j] > thresh else \"black\")\n",
    "    plt.tight_layout()    \n",
    "    plt.ylabel('True label')\n",
    "    plt.xlabel('Predicted label')\n",
    "    plt.tight_layout()\n",
    "    \n",
    "    "
   ]
  },
  {
   "cell_type": "code",
   "execution_count": 214,
   "metadata": {},
   "outputs": [
    {
     "data": {
      "text/plain": [
       "<module 'seaborn' from '/home/nsssayom/.local/lib/python3.9/site-packages/seaborn/__init__.py'>"
      ]
     },
     "execution_count": 214,
     "metadata": {},
     "output_type": "execute_result"
    }
   ],
   "source": [
    "import imp\n",
    "imp.reload(sns)"
   ]
  },
  {
   "cell_type": "code",
   "execution_count": 215,
   "metadata": {},
   "outputs": [],
   "source": [
    "sns.reset_defaults()"
   ]
  },
  {
   "cell_type": "code",
   "execution_count": 216,
   "metadata": {},
   "outputs": [],
   "source": [
    "import matplotlib.pyplot as plt\n",
    "import matplotlib.font_manager as fm\n",
    "from matplotlib.font_manager import FontProperties\n",
    "\n",
    "# plt.figure() \n",
    "# prop = FontProperties()\n",
    "# prop.set_file('Siyamrupali.ttf')"
   ]
  },
  {
   "cell_type": "code",
   "execution_count": 217,
   "metadata": {},
   "outputs": [
    {
     "name": "stdout",
     "output_type": "stream",
     "text": [
      "Confusion matrix, without normalization\n",
      "[[ 996    4]\n",
      " [   0 1000]]\n"
     ]
    },
    {
     "data": {
      "image/png": "[encoded data removed]",
      "text/plain": [
       "<Figure size 1200x1200 with 2 Axes>"
      ]
     },
     "metadata": {},
     "output_type": "display_data"
    }
   ],
   "source": [
    "cm_plot_labels = ['Cracked', 'Non-Cracked']\n",
    "#sns.set_theme()\n",
    "plot_confusion_matrix(cm=cm, classes=cm_plot_labels, title='Confusion Matrix')\n",
    "plt.savefig('./graph/TwoClass_conf_Raw_1.svg')\n",
    "#plt.savefig('G:/Nazia/BanglaLekha/Comp-graph/cf_val_git_05.png')"
   ]
  }
 ],
 "metadata": {
  "interpreter": {
   "hash": "e7370f93d1d0cde622a1f8e1c04877d8463912d04d973331ad4851f04de6915a"
  },
  "kernelspec": {
   "display_name": "Python 3.9.7 64-bit",
   "name": "python3"
  },
  "language_info": {
   "codemirror_mode": {
    "name": "ipython",
    "version": 3
   },
   "file_extension": ".py",
   "mimetype": "text/x-python",
   "name": "python",
   "nbconvert_exporter": "python",
   "pygments_lexer": "ipython3",
   "version": "3.9.7"
  }
 },
 "nbformat": 4,
 "nbformat_minor": 4
}
